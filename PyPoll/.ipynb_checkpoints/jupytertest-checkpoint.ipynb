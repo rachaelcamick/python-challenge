{
 "cells": [
  {
   "cell_type": "code",
   "execution_count": 46,
   "metadata": {},
   "outputs": [],
   "source": [
    "# dependencies\n",
    "import os \n",
    "import csv"
   ]
  },
  {
   "cell_type": "code",
   "execution_count": 47,
   "metadata": {},
   "outputs": [],
   "source": [
    "#path\n",
    "csvpath = os.path.join(\"election_data.csv\")"
   ]
  },
  {
   "cell_type": "code",
   "execution_count": 48,
   "metadata": {},
   "outputs": [],
   "source": [
    "#create list for total number of votes cast, candidates\n",
    "candidate_raw_list = []\n",
    "#create list for number of votes per candidate\n",
    "votes_per_cand = []"
   ]
  },
  {
   "cell_type": "code",
   "execution_count": 49,
   "metadata": {},
   "outputs": [],
   "source": [
    "#read path using csv module\n",
    "with open(csvpath, newline='') as csvfile:\n",
    "    read_election = csv.reader(csvfile, delimiter=',')\n",
    "    skipheader = next(read_election)\n",
    "    # loop through csvfile for total number of votes\n",
    "    for row in read_election:\n",
    "        candidate_raw_list.append(row[2])"
   ]
  },
  {
   "cell_type": "code",
   "execution_count": 50,
   "metadata": {},
   "outputs": [
    {
     "name": "stdout",
     "output_type": "stream",
     "text": [
      "['Khan', 'Correy', 'Li', \"O'Tooley\"]\n"
     ]
    }
   ],
   "source": [
    "#get rid of duplicates\n",
    "candidate_short = []    \n",
    "for candidate in candidate_raw_list:\n",
    "    if candidate not in candidate_short:\n",
    "        candidate_short.append(candidate)\n",
    "print(candidate_short)"
   ]
  },
  {
   "cell_type": "code",
   "execution_count": 51,
   "metadata": {},
   "outputs": [],
   "source": [
    "#create lists comprised only of votes for each candidate\n",
    "Khan = []\n",
    "Correy = []\n",
    "Li = []\n",
    "Otooley = []\n",
    "for i in candidate_raw_list:\n",
    "    if i == str(candidate_short[0]):\n",
    "        Khan.append(i)\n",
    "    elif i == str(candidate_short[1]):\n",
    "        Correy.append(i)\n",
    "    elif i == str(candidate_short[2]): \n",
    "        Li.append(i)\n",
    "    else:\n",
    "        Otooley.append(i)\n",
    "    "
   ]
  },
  {
   "cell_type": "code",
   "execution_count": 54,
   "metadata": {},
   "outputs": [],
   "source": [
    "Khan_total = int(len(Khan))\n",
    "Correy_total = int(len(Correy))\n",
    "Li_total = int(len(Li))\n",
    "Otooley_total = int(len(Otooley))"
   ]
  },
  {
   "cell_type": "code",
   "execution_count": 61,
   "metadata": {},
   "outputs": [],
   "source": [
    "Khan_percent = Khan_total/(len(candidate_raw_list))*100\n",
    "Correy_percent = Correy_total/(len(candidate_raw_list))*100\n",
    "Li_percent = Li_total/(len(candidate_raw_list))*100\n",
    "Otooley_percent = Otooley_total/(len(candidate_raw_list))*100"
   ]
  },
  {
   "cell_type": "code",
   "execution_count": 64,
   "metadata": {},
   "outputs": [],
   "source": [
    "#to find a winner, make a dictionary\n",
    "votelist = [Khan_total, Correy_total, Li_total, Otooley_total]\n",
    "zip_candidates_votes = dict(zip(candidate_short, votelist))\n",
    "winner = max(zip_candidates_votes, key=zip_candidates_votes.get)"
   ]
  },
  {
   "cell_type": "code",
   "execution_count": null,
   "metadata": {},
   "outputs": [],
   "source": []
  }
 ],
 "metadata": {
  "kernelspec": {
   "display_name": "Python 3",
   "language": "python",
   "name": "python3"
  },
  "language_info": {
   "codemirror_mode": {
    "name": "ipython",
    "version": 3
   },
   "file_extension": ".py",
   "mimetype": "text/x-python",
   "name": "python",
   "nbconvert_exporter": "python",
   "pygments_lexer": "ipython3",
   "version": "3.6.6"
  }
 },
 "nbformat": 4,
 "nbformat_minor": 2
}
