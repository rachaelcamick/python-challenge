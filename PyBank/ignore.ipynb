{
 "cells": [
  {
   "cell_type": "code",
   "execution_count": 16,
   "metadata": {},
   "outputs": [],
   "source": [
    "# Dependencies\n",
    "import os\n",
    "import csv"
   ]
  },
  {
   "cell_type": "code",
   "execution_count": 17,
   "metadata": {},
   "outputs": [],
   "source": [
    "# path to collect data from budget file\n",
    "csvpath = os.path.join(\"budget_data.csv\")"
   ]
  },
  {
   "cell_type": "code",
   "execution_count": 18,
   "metadata": {},
   "outputs": [],
   "source": [
    "# make empty lists\n",
    "months = []\n",
    "net_profit =[]\n",
    "monthly_change = []"
   ]
  },
  {
   "cell_type": "code",
   "execution_count": 23,
   "metadata": {},
   "outputs": [],
   "source": [
    "with open(csvpath, newline='') as csvfile:\n",
    "    csvreader = csv.reader(csvfile, delimiter=\",\")\n",
    "    #skip header so list includes only values\n",
    "    skipheader = next(csvreader)\n",
    "    # loop through rows in the data file\n",
    "    for row in csvreader: \n",
    "        months.append(row[0])\n",
    "        net_profit.append(int(row[1]))\n",
    "    # loop through the length of the list\n",
    "    for i in range(1, len(net_profit)-1):\n",
    "        #make a list comprised of the profit changes between months\n",
    "        monthly_change.append((int(net_profit[i+1]) - int(net_profit[i])))"
   ]
  },
  {
   "cell_type": "code",
   "execution_count": 24,
   "metadata": {},
   "outputs": [],
   "source": [
    "#find monthly max and min\n",
    "increase_max = max(monthly_change)\n",
    "decrease_max = min(monthly_change)"
   ]
  },
  {
   "cell_type": "code",
   "execution_count": 25,
   "metadata": {},
   "outputs": [],
   "source": [
    "#find greatest increase and decrease in profits \n",
    "increase_month = monthly_change.index(max(monthly_change))\n",
    "decrease_month = monthly_change.index(min(monthly_change))"
   ]
  },
  {
   "cell_type": "code",
   "execution_count": 31,
   "metadata": {},
   "outputs": [
    {
     "name": "stdout",
     "output_type": "stream",
     "text": [
      "Financial Analysis\n",
      "Total Months: 430\n",
      "Total: $191912890\n",
      "Average Change: $-814.4311688311689\n",
      "Greatest Increase in Profits: Dec-11 $[1926159]\n",
      "Greatest Decrease in Profits: Jul-13 $[-2196167]\n"
     ]
    }
   ],
   "source": [
    "# print statements\n",
    "print(\"Financial Analysis\")\n",
    "print(f\"Total Months: {len(months)}\")\n",
    "print(f\"Total: ${sum(net_profit)}\")\n",
    "print(f\"Average Change: ${sum(monthly_change)/len(monthly_change)}\")\n",
    "print(f\"Greatest Increase in Profits: {months[increase_month]} ${[increase_max]}\")\n",
    "print(f\"Greatest Decrease in Profits: {months[decrease_month]} ${[decrease_max]}\")"
   ]
  },
  {
   "cell_type": "code",
   "execution_count": null,
   "metadata": {},
   "outputs": [],
   "source": []
  }
 ],
 "metadata": {
  "kernelspec": {
   "display_name": "Python 3",
   "language": "python",
   "name": "python3"
  },
  "language_info": {
   "codemirror_mode": {
    "name": "ipython",
    "version": 3
   },
   "file_extension": ".py",
   "mimetype": "text/x-python",
   "name": "python",
   "nbconvert_exporter": "python",
   "pygments_lexer": "ipython3",
   "version": "3.6.6"
  }
 },
 "nbformat": 4,
 "nbformat_minor": 2
}
